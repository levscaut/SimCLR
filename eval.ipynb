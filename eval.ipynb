{
 "cells": [
  {
   "cell_type": "code",
   "execution_count": 7,
   "metadata": {},
   "outputs": [],
   "source": [
    "import torch\n",
    "from simclr import SimCLR\n",
    "from torchvision import transforms\n",
    "from torchvision.models import resnet18, resnet50\n",
    "import torchvision\n",
    "from types import SimpleNamespace\n",
    "from linear_evaluation import compute_metrics, inference\n",
    "from tqdm import tqdm"
   ]
  },
  {
   "cell_type": "code",
   "execution_count": 8,
   "metadata": {},
   "outputs": [],
   "source": [
    "args = SimpleNamespace()\n",
    "args.model = 'resnet50'\n",
    "args.training_method = 'simclr'\n",
    "args.dataset = 'cifar10'\n",
    "args.batch_size = 32\n",
    "args.image_size = 224\n",
    "args.projection_dim = 64\n",
    "args.ckpt_path = \"/home/levscaut/SimCLR/save_resnet50_supervised/checkpoint_{epoch}.tar\""
   ]
  },
  {
   "cell_type": "code",
   "execution_count": 9,
   "metadata": {},
   "outputs": [
    {
     "name": "stdout",
     "output_type": "stream",
     "text": [
      "Files already downloaded and verified\n",
      "# of test data: 10000\n"
     ]
    }
   ],
   "source": [
    "test_dataset = torchvision.datasets.CIFAR10(download=True, train=False, root=\"datasets\", transform=transforms.Compose([\n",
    "    torchvision.transforms.Resize(size=args.image_size),\n",
    "    transforms.ToTensor(),\n",
    "    ]))\n",
    "test_loader = torch.utils.data.DataLoader(test_dataset, batch_size=args.batch_size, shuffle=False)\n",
    "print('# of test data:', len(test_dataset))"
   ]
  },
  {
   "cell_type": "code",
   "execution_count": 10,
   "metadata": {},
   "outputs": [],
   "source": [
    "model_dict = {\n",
    "    'resnet18': resnet18,\n",
    "    'resnet50': resnet50\n",
    "}\n",
    "model = model_dict[args.model](pretrained=False, num_classes=len(test_dataset.classes))"
   ]
  },
  {
   "cell_type": "code",
   "execution_count": 11,
   "metadata": {},
   "outputs": [
    {
     "data": {
      "text/plain": [
       "<All keys matched successfully>"
      ]
     },
     "execution_count": 11,
     "metadata": {},
     "output_type": "execute_result"
    }
   ],
   "source": [
    "state_dict = torch.load(args.ckpt_path)\n",
    "model.load_state_dict(state_dict)"
   ]
  },
  {
   "cell_type": "code",
   "execution_count": 15,
   "metadata": {},
   "outputs": [
    {
     "name": "stderr",
     "output_type": "stream",
     "text": [
      "100%|██████████| 313/313 [00:19<00:00, 15.95it/s]"
     ]
    },
    {
     "name": "stdout",
     "output_type": "stream",
     "text": [
      "{'acc': tensor(0.9123, device='cuda:0'), 'precision': tensor(0.9072, device='cuda:0'), 'recall': tensor(0.9058, device='cuda:0'), 'f1': tensor(0.8932, device='cuda:0')}\n"
     ]
    },
    {
     "name": "stderr",
     "output_type": "stream",
     "text": [
      "\n"
     ]
    }
   ],
   "source": [
    "model.eval()\n",
    "device = 'cuda' if torch.cuda.is_available() else 'cpu'\n",
    "model = model.to(device)\n",
    "count = 0\n",
    "all_metrics = {\n",
    "    'acc': 0,\n",
    "    'precision': 0,\n",
    "    'recall': 0,\n",
    "    'f1': 0,\n",
    "}\n",
    "for i, (images, labels) in tqdm(enumerate(test_loader), total=len(test_loader)):\n",
    "    images = images.to(device)\n",
    "    labels = labels.to(device)\n",
    "    pred = model(images)\n",
    "    res = compute_metrics(pred, labels)\n",
    "    for key in all_metrics.keys():\n",
    "        all_metrics[key] += res[key] * len(labels)\n",
    "    count += len(labels)\n",
    "    \n",
    "for key in all_metrics.keys():\n",
    "    all_metrics[key] /= count\n",
    "print(all_metrics)\n",
    "    "
   ]
  },
  {
   "cell_type": "markdown",
   "metadata": {},
   "source": [
    "100:\n",
    "{'acc': tensor(0.9153, device='cuda:0'), 'precision': tensor(0.9054, device='cuda:0'), 'recall': tensor(0.9047, device='cuda:0'), 'f1': tensor(0.8925, device='cuda:0')}"
   ]
  }
 ],
 "metadata": {
  "kernelspec": {
   "display_name": "base",
   "language": "python",
   "name": "python3"
  },
  "language_info": {
   "codemirror_mode": {
    "name": "ipython",
    "version": 3
   },
   "file_extension": ".py",
   "mimetype": "text/x-python",
   "name": "python",
   "nbconvert_exporter": "python",
   "pygments_lexer": "ipython3",
   "version": "3.9.7"
  }
 },
 "nbformat": 4,
 "nbformat_minor": 2
}
